{
 "cells": [
  {
   "cell_type": "markdown",
   "metadata": {},
   "source": [
    "### Predicting Bitcoin value using Linear Regression"
   ]
  },
  {
   "cell_type": "code",
   "execution_count": 1,
   "metadata": {},
   "outputs": [],
   "source": [
    "#importing the required libraries\n",
    "import numpy as np\n",
    "import pandas as pd\n",
    "import matplotlib.pyplot as plt"
   ]
  },
  {
   "cell_type": "code",
   "execution_count": 2,
   "metadata": {},
   "outputs": [
    {
     "data": {
      "text/html": [
       "<div>\n",
       "<style scoped>\n",
       "    .dataframe tbody tr th:only-of-type {\n",
       "        vertical-align: middle;\n",
       "    }\n",
       "\n",
       "    .dataframe tbody tr th {\n",
       "        vertical-align: top;\n",
       "    }\n",
       "\n",
       "    .dataframe thead th {\n",
       "        text-align: right;\n",
       "    }\n",
       "</style>\n",
       "<table border=\"1\" class=\"dataframe\">\n",
       "  <thead>\n",
       "    <tr style=\"text-align: right;\">\n",
       "      <th></th>\n",
       "      <th>Date</th>\n",
       "      <th>Symbol</th>\n",
       "      <th>Open</th>\n",
       "      <th>High</th>\n",
       "      <th>Low</th>\n",
       "      <th>Close</th>\n",
       "      <th>Volume BTC</th>\n",
       "      <th>Volume USD</th>\n",
       "    </tr>\n",
       "  </thead>\n",
       "  <tbody>\n",
       "    <tr>\n",
       "      <th>0</th>\n",
       "      <td>2020-04-10</td>\n",
       "      <td>BTCUSD</td>\n",
       "      <td>7315.25</td>\n",
       "      <td>7315.25</td>\n",
       "      <td>7315.25</td>\n",
       "      <td>7315.25</td>\n",
       "      <td>0.00</td>\n",
       "      <td>0.00</td>\n",
       "    </tr>\n",
       "    <tr>\n",
       "      <th>1</th>\n",
       "      <td>2020-04-09</td>\n",
       "      <td>BTCUSD</td>\n",
       "      <td>7369.60</td>\n",
       "      <td>7378.85</td>\n",
       "      <td>7115.04</td>\n",
       "      <td>7315.25</td>\n",
       "      <td>2237.13</td>\n",
       "      <td>16310014.53</td>\n",
       "    </tr>\n",
       "    <tr>\n",
       "      <th>2</th>\n",
       "      <td>2020-04-08</td>\n",
       "      <td>BTCUSD</td>\n",
       "      <td>7201.81</td>\n",
       "      <td>7432.23</td>\n",
       "      <td>7152.80</td>\n",
       "      <td>7369.60</td>\n",
       "      <td>2483.60</td>\n",
       "      <td>18138080.27</td>\n",
       "    </tr>\n",
       "    <tr>\n",
       "      <th>3</th>\n",
       "      <td>2020-04-07</td>\n",
       "      <td>BTCUSD</td>\n",
       "      <td>7336.96</td>\n",
       "      <td>7468.42</td>\n",
       "      <td>7078.00</td>\n",
       "      <td>7201.81</td>\n",
       "      <td>2333.34</td>\n",
       "      <td>17047120.32</td>\n",
       "    </tr>\n",
       "    <tr>\n",
       "      <th>4</th>\n",
       "      <td>2020-04-06</td>\n",
       "      <td>BTCUSD</td>\n",
       "      <td>6775.21</td>\n",
       "      <td>7369.76</td>\n",
       "      <td>6771.01</td>\n",
       "      <td>7336.96</td>\n",
       "      <td>3727.47</td>\n",
       "      <td>26533750.17</td>\n",
       "    </tr>\n",
       "    <tr>\n",
       "      <th>...</th>\n",
       "      <td>...</td>\n",
       "      <td>...</td>\n",
       "      <td>...</td>\n",
       "      <td>...</td>\n",
       "      <td>...</td>\n",
       "      <td>...</td>\n",
       "      <td>...</td>\n",
       "      <td>...</td>\n",
       "    </tr>\n",
       "    <tr>\n",
       "      <th>1642</th>\n",
       "      <td>2015-10-12</td>\n",
       "      <td>BTCUSD</td>\n",
       "      <td>249.50</td>\n",
       "      <td>249.50</td>\n",
       "      <td>247.60</td>\n",
       "      <td>247.60</td>\n",
       "      <td>38.28</td>\n",
       "      <td>9493.89</td>\n",
       "    </tr>\n",
       "    <tr>\n",
       "      <th>1643</th>\n",
       "      <td>2015-10-11</td>\n",
       "      <td>BTCUSD</td>\n",
       "      <td>246.30</td>\n",
       "      <td>249.50</td>\n",
       "      <td>246.30</td>\n",
       "      <td>249.50</td>\n",
       "      <td>12.22</td>\n",
       "      <td>3021.12</td>\n",
       "    </tr>\n",
       "    <tr>\n",
       "      <th>1644</th>\n",
       "      <td>2015-10-10</td>\n",
       "      <td>BTCUSD</td>\n",
       "      <td>245.39</td>\n",
       "      <td>246.30</td>\n",
       "      <td>244.60</td>\n",
       "      <td>246.30</td>\n",
       "      <td>12.17</td>\n",
       "      <td>2984.44</td>\n",
       "    </tr>\n",
       "    <tr>\n",
       "      <th>1645</th>\n",
       "      <td>2015-10-09</td>\n",
       "      <td>BTCUSD</td>\n",
       "      <td>243.95</td>\n",
       "      <td>249.97</td>\n",
       "      <td>243.60</td>\n",
       "      <td>245.39</td>\n",
       "      <td>30.99</td>\n",
       "      <td>7651.63</td>\n",
       "    </tr>\n",
       "    <tr>\n",
       "      <th>1646</th>\n",
       "      <td>2015-10-08</td>\n",
       "      <td>BTCUSD</td>\n",
       "      <td>242.50</td>\n",
       "      <td>245.00</td>\n",
       "      <td>242.50</td>\n",
       "      <td>243.95</td>\n",
       "      <td>18.80</td>\n",
       "      <td>4595.84</td>\n",
       "    </tr>\n",
       "  </tbody>\n",
       "</table>\n",
       "<p>1647 rows × 8 columns</p>\n",
       "</div>"
      ],
      "text/plain": [
       "            Date  Symbol     Open     High      Low    Close  Volume BTC  \\\n",
       "0     2020-04-10  BTCUSD  7315.25  7315.25  7315.25  7315.25        0.00   \n",
       "1     2020-04-09  BTCUSD  7369.60  7378.85  7115.04  7315.25     2237.13   \n",
       "2     2020-04-08  BTCUSD  7201.81  7432.23  7152.80  7369.60     2483.60   \n",
       "3     2020-04-07  BTCUSD  7336.96  7468.42  7078.00  7201.81     2333.34   \n",
       "4     2020-04-06  BTCUSD  6775.21  7369.76  6771.01  7336.96     3727.47   \n",
       "...          ...     ...      ...      ...      ...      ...         ...   \n",
       "1642  2015-10-12  BTCUSD   249.50   249.50   247.60   247.60       38.28   \n",
       "1643  2015-10-11  BTCUSD   246.30   249.50   246.30   249.50       12.22   \n",
       "1644  2015-10-10  BTCUSD   245.39   246.30   244.60   246.30       12.17   \n",
       "1645  2015-10-09  BTCUSD   243.95   249.97   243.60   245.39       30.99   \n",
       "1646  2015-10-08  BTCUSD   242.50   245.00   242.50   243.95       18.80   \n",
       "\n",
       "       Volume USD  \n",
       "0            0.00  \n",
       "1     16310014.53  \n",
       "2     18138080.27  \n",
       "3     17047120.32  \n",
       "4     26533750.17  \n",
       "...           ...  \n",
       "1642      9493.89  \n",
       "1643      3021.12  \n",
       "1644      2984.44  \n",
       "1645      7651.63  \n",
       "1646      4595.84  \n",
       "\n",
       "[1647 rows x 8 columns]"
      ]
     },
     "execution_count": 2,
     "metadata": {},
     "output_type": "execute_result"
    }
   ],
   "source": [
    "#Reading the dataset\n",
    "data = pd.read_csv('bitcoin.csv')\n",
    "data"
   ]
  },
  {
   "cell_type": "code",
   "execution_count": 3,
   "metadata": {},
   "outputs": [
    {
     "data": {
      "text/html": [
       "<div>\n",
       "<style scoped>\n",
       "    .dataframe tbody tr th:only-of-type {\n",
       "        vertical-align: middle;\n",
       "    }\n",
       "\n",
       "    .dataframe tbody tr th {\n",
       "        vertical-align: top;\n",
       "    }\n",
       "\n",
       "    .dataframe thead th {\n",
       "        text-align: right;\n",
       "    }\n",
       "</style>\n",
       "<table border=\"1\" class=\"dataframe\">\n",
       "  <thead>\n",
       "    <tr style=\"text-align: right;\">\n",
       "      <th></th>\n",
       "      <th>Date</th>\n",
       "      <th>Symbol</th>\n",
       "      <th>Open</th>\n",
       "      <th>High</th>\n",
       "      <th>Low</th>\n",
       "      <th>Close</th>\n",
       "      <th>Volume BTC</th>\n",
       "      <th>Volume USD</th>\n",
       "    </tr>\n",
       "  </thead>\n",
       "  <tbody>\n",
       "    <tr>\n",
       "      <th>0</th>\n",
       "      <td>2015-10-08</td>\n",
       "      <td>BTCUSD</td>\n",
       "      <td>242.50</td>\n",
       "      <td>245.00</td>\n",
       "      <td>242.5</td>\n",
       "      <td>243.95</td>\n",
       "      <td>18.80</td>\n",
       "      <td>4595.84</td>\n",
       "    </tr>\n",
       "    <tr>\n",
       "      <th>1</th>\n",
       "      <td>2015-10-09</td>\n",
       "      <td>BTCUSD</td>\n",
       "      <td>243.95</td>\n",
       "      <td>249.97</td>\n",
       "      <td>243.6</td>\n",
       "      <td>245.39</td>\n",
       "      <td>30.99</td>\n",
       "      <td>7651.63</td>\n",
       "    </tr>\n",
       "    <tr>\n",
       "      <th>2</th>\n",
       "      <td>2015-10-10</td>\n",
       "      <td>BTCUSD</td>\n",
       "      <td>245.39</td>\n",
       "      <td>246.30</td>\n",
       "      <td>244.6</td>\n",
       "      <td>246.30</td>\n",
       "      <td>12.17</td>\n",
       "      <td>2984.44</td>\n",
       "    </tr>\n",
       "    <tr>\n",
       "      <th>3</th>\n",
       "      <td>2015-10-11</td>\n",
       "      <td>BTCUSD</td>\n",
       "      <td>246.30</td>\n",
       "      <td>249.50</td>\n",
       "      <td>246.3</td>\n",
       "      <td>249.50</td>\n",
       "      <td>12.22</td>\n",
       "      <td>3021.12</td>\n",
       "    </tr>\n",
       "    <tr>\n",
       "      <th>4</th>\n",
       "      <td>2015-10-12</td>\n",
       "      <td>BTCUSD</td>\n",
       "      <td>249.50</td>\n",
       "      <td>249.50</td>\n",
       "      <td>247.6</td>\n",
       "      <td>247.60</td>\n",
       "      <td>38.28</td>\n",
       "      <td>9493.89</td>\n",
       "    </tr>\n",
       "  </tbody>\n",
       "</table>\n",
       "</div>"
      ],
      "text/plain": [
       "         Date  Symbol    Open    High    Low   Close  Volume BTC  Volume USD\n",
       "0  2015-10-08  BTCUSD  242.50  245.00  242.5  243.95       18.80     4595.84\n",
       "1  2015-10-09  BTCUSD  243.95  249.97  243.6  245.39       30.99     7651.63\n",
       "2  2015-10-10  BTCUSD  245.39  246.30  244.6  246.30       12.17     2984.44\n",
       "3  2015-10-11  BTCUSD  246.30  249.50  246.3  249.50       12.22     3021.12\n",
       "4  2015-10-12  BTCUSD  249.50  249.50  247.6  247.60       38.28     9493.89"
      ]
     },
     "execution_count": 3,
     "metadata": {},
     "output_type": "execute_result"
    }
   ],
   "source": [
    "data = data.iloc[::-1,:]\n",
    "data = data.reset_index()\n",
    "data = data.drop('index',axis=1)\n",
    "data.head()"
   ]
  },
  {
   "cell_type": "code",
   "execution_count": 4,
   "metadata": {},
   "outputs": [
    {
     "data": {
      "image/png": "[encoded data removed]",
      "text/plain": [
       "<Figure size 432x288 with 1 Axes>"
      ]
     },
     "metadata": {
      "needs_background": "light"
     },
     "output_type": "display_data"
    },
    {
     "data": {
      "text/plain": [
       "<Figure size 720x576 with 0 Axes>"
      ]
     },
     "metadata": {},
     "output_type": "display_data"
    }
   ],
   "source": [
    "# Plotting the target feature\n",
    "plt.plot(data['Close'])\n",
    "plt.xlabel('Days')\n",
    "plt.ylabel('Cost in USD')\n",
    "plt.title('Bitcoin Price')\n",
    "plt.figure(figsize=(10,8))\n",
    "plt.show()"
   ]
  },
  {
   "cell_type": "code",
   "execution_count": 5,
   "metadata": {},
   "outputs": [
    {
     "name": "stdout",
     "output_type": "stream",
     "text": [
      "        Close\n",
      "0      243.95\n",
      "1      245.39\n",
      "2      246.30\n",
      "3      249.50\n",
      "4      247.60\n",
      "...       ...\n",
      "1642  7336.96\n",
      "1643  7201.81\n",
      "1644  7369.60\n",
      "1645  7315.25\n",
      "1646  7315.25\n",
      "\n",
      "[1647 rows x 1 columns]\n"
     ]
    }
   ],
   "source": [
    "price = data[['Close']]\n",
    "print(price)"
   ]
  },
  {
   "cell_type": "code",
   "execution_count": 6,
   "metadata": {},
   "outputs": [],
   "source": [
    "#Assigning the number of days to predict in future \n",
    "futuredays = 100"
   ]
  },
  {
   "cell_type": "code",
   "execution_count": 7,
   "metadata": {},
   "outputs": [
    {
     "name": "stderr",
     "output_type": "stream",
     "text": [
      "<ipython-input-7-1a1c4de17ce7>:2: SettingWithCopyWarning: \n",
      "A value is trying to be set on a copy of a slice from a DataFrame.\n",
      "Try using .loc[row_indexer,col_indexer] = value instead\n",
      "\n",
      "See the caveats in the documentation: https://pandas.pydata.org/pandas-docs/stable/user_guide/indexing.html#returning-a-view-versus-a-copy\n",
      "  price['Predictions'] = data['Close'].copy().shift(-futuredays)\n"
     ]
    }
   ],
   "source": [
    "#Creating a dataframe coloumn with shifted values to predict the future values\n",
    "price['Predictions'] = data['Close'].copy().shift(-futuredays)"
   ]
  },
  {
   "cell_type": "code",
   "execution_count": 8,
   "metadata": {},
   "outputs": [
    {
     "data": {
      "text/html": [
       "<div>\n",
       "<style scoped>\n",
       "    .dataframe tbody tr th:only-of-type {\n",
       "        vertical-align: middle;\n",
       "    }\n",
       "\n",
       "    .dataframe tbody tr th {\n",
       "        vertical-align: top;\n",
       "    }\n",
       "\n",
       "    .dataframe thead th {\n",
       "        text-align: right;\n",
       "    }\n",
       "</style>\n",
       "<table border=\"1\" class=\"dataframe\">\n",
       "  <thead>\n",
       "    <tr style=\"text-align: right;\">\n",
       "      <th></th>\n",
       "      <th>Close</th>\n",
       "      <th>Predictions</th>\n",
       "    </tr>\n",
       "  </thead>\n",
       "  <tbody>\n",
       "    <tr>\n",
       "      <th>0</th>\n",
       "      <td>243.95</td>\n",
       "      <td>384.25</td>\n",
       "    </tr>\n",
       "    <tr>\n",
       "      <th>1</th>\n",
       "      <td>245.39</td>\n",
       "      <td>383.90</td>\n",
       "    </tr>\n",
       "    <tr>\n",
       "      <th>2</th>\n",
       "      <td>246.30</td>\n",
       "      <td>385.03</td>\n",
       "    </tr>\n",
       "    <tr>\n",
       "      <th>3</th>\n",
       "      <td>249.50</td>\n",
       "      <td>380.58</td>\n",
       "    </tr>\n",
       "    <tr>\n",
       "      <th>4</th>\n",
       "      <td>247.60</td>\n",
       "      <td>417.51</td>\n",
       "    </tr>\n",
       "    <tr>\n",
       "      <th>...</th>\n",
       "      <td>...</td>\n",
       "      <td>...</td>\n",
       "    </tr>\n",
       "    <tr>\n",
       "      <th>1642</th>\n",
       "      <td>7336.96</td>\n",
       "      <td>NaN</td>\n",
       "    </tr>\n",
       "    <tr>\n",
       "      <th>1643</th>\n",
       "      <td>7201.81</td>\n",
       "      <td>NaN</td>\n",
       "    </tr>\n",
       "    <tr>\n",
       "      <th>1644</th>\n",
       "      <td>7369.60</td>\n",
       "      <td>NaN</td>\n",
       "    </tr>\n",
       "    <tr>\n",
       "      <th>1645</th>\n",
       "      <td>7315.25</td>\n",
       "      <td>NaN</td>\n",
       "    </tr>\n",
       "    <tr>\n",
       "      <th>1646</th>\n",
       "      <td>7315.25</td>\n",
       "      <td>NaN</td>\n",
       "    </tr>\n",
       "  </tbody>\n",
       "</table>\n",
       "<p>1647 rows × 2 columns</p>\n",
       "</div>"
      ],
      "text/plain": [
       "        Close  Predictions\n",
       "0      243.95       384.25\n",
       "1      245.39       383.90\n",
       "2      246.30       385.03\n",
       "3      249.50       380.58\n",
       "4      247.60       417.51\n",
       "...       ...          ...\n",
       "1642  7336.96          NaN\n",
       "1643  7201.81          NaN\n",
       "1644  7369.60          NaN\n",
       "1645  7315.25          NaN\n",
       "1646  7315.25          NaN\n",
       "\n",
       "[1647 rows x 2 columns]"
      ]
     },
     "execution_count": 8,
     "metadata": {},
     "output_type": "execute_result"
    }
   ],
   "source": [
    "price"
   ]
  },
  {
   "cell_type": "code",
   "execution_count": 9,
   "metadata": {},
   "outputs": [],
   "source": [
    "from sklearn.model_selection import train_test_split"
   ]
  },
  {
   "cell_type": "code",
   "execution_count": 10,
   "metadata": {},
   "outputs": [],
   "source": [
    "X = price['Close'][:-futuredays] #Do not include the future days"
   ]
  },
  {
   "cell_type": "code",
   "execution_count": 11,
   "metadata": {},
   "outputs": [],
   "source": [
    "X = np.array(X)"
   ]
  },
  {
   "cell_type": "code",
   "execution_count": 12,
   "metadata": {},
   "outputs": [],
   "source": [
    "X = X.reshape(-1,1) #It should be a 2D array"
   ]
  },
  {
   "cell_type": "code",
   "execution_count": 13,
   "metadata": {},
   "outputs": [
    {
     "data": {
      "text/plain": [
       "array([[ 243.95],\n",
       "       [ 245.39],\n",
       "       [ 246.3 ],\n",
       "       ...,\n",
       "       [7216.27],\n",
       "       [7165.9 ],\n",
       "       [7175.2 ]])"
      ]
     },
     "execution_count": 13,
     "metadata": {},
     "output_type": "execute_result"
    }
   ],
   "source": [
    "X"
   ]
  },
  {
   "cell_type": "code",
   "execution_count": 14,
   "metadata": {},
   "outputs": [],
   "source": [
    "y = price['Predictions'][:-futuredays] #The number of days should match with X"
   ]
  },
  {
   "cell_type": "code",
   "execution_count": 15,
   "metadata": {
    "scrolled": true
   },
   "outputs": [],
   "source": [
    "y = np.array(y)"
   ]
  },
  {
   "cell_type": "code",
   "execution_count": 16,
   "metadata": {},
   "outputs": [
    {
     "data": {
      "text/plain": [
       "array([[ 384.25],\n",
       "       [ 383.9 ],\n",
       "       [ 385.03],\n",
       "       ...,\n",
       "       [7369.6 ],\n",
       "       [7315.25],\n",
       "       [7315.25]])"
      ]
     },
     "execution_count": 16,
     "metadata": {},
     "output_type": "execute_result"
    }
   ],
   "source": [
    "y.reshape(-1,1)"
   ]
  },
  {
   "cell_type": "code",
   "execution_count": 17,
   "metadata": {},
   "outputs": [],
   "source": [
    "xtrain, xtest, ytrain, ytest = train_test_split(X, y, test_size=0.25)"
   ]
  },
  {
   "cell_type": "code",
   "execution_count": 18,
   "metadata": {},
   "outputs": [
    {
     "data": {
      "text/plain": [
       "array([[ 6710.26],\n",
       "       [ 7072.7 ],\n",
       "       [15041.  ],\n",
       "       ...,\n",
       "       [  451.99],\n",
       "       [ 3532.25],\n",
       "       [15148.92]])"
      ]
     },
     "execution_count": 18,
     "metadata": {},
     "output_type": "execute_result"
    }
   ],
   "source": [
    "xtrain"
   ]
  },
  {
   "cell_type": "code",
   "execution_count": 19,
   "metadata": {},
   "outputs": [
    {
     "data": {
      "text/plain": [
       "array([[ 6931.59],\n",
       "       [ 6688.01],\n",
       "       [ 1015.18],\n",
       "       [ 4098.03],\n",
       "       [ 9599.07],\n",
       "       [ 8209.88],\n",
       "       [ 9084.31],\n",
       "       [ 9171.01],\n",
       "       [  315.  ],\n",
       "       [ 4155.55],\n",
       "       [ 7192.73],\n",
       "       [ 6250.02],\n",
       "       [ 6465.97],\n",
       "       [16250.  ],\n",
       "       [ 6508.36],\n",
       "       [  622.17],\n",
       "       [ 5503.64],\n",
       "       [10753.17],\n",
       "       [ 1895.55],\n",
       "       [ 9308.45],\n",
       "       [ 6313.83],\n",
       "       [ 2844.99],\n",
       "       [ 9282.65],\n",
       "       [ 8466.31],\n",
       "       [  393.08],\n",
       "       [ 2026.  ],\n",
       "       [  431.47],\n",
       "       [ 6297.7 ],\n",
       "       [ 6759.51],\n",
       "       [  322.75],\n",
       "       [  907.19],\n",
       "       [  702.  ],\n",
       "       [ 3799.99],\n",
       "       [ 6401.09],\n",
       "       [ 4751.08],\n",
       "       [  782.47],\n",
       "       [  899.53],\n",
       "       [  398.27],\n",
       "       [ 3533.49],\n",
       "       [ 8769.2 ],\n",
       "       [ 6412.64],\n",
       "       [10562.46],\n",
       "       [ 6243.21],\n",
       "       [13725.53],\n",
       "       [ 7520.11],\n",
       "       [ 8023.14],\n",
       "       [  379.39],\n",
       "       [19260.5 ],\n",
       "       [ 8004.36],\n",
       "       [ 2689.58],\n",
       "       [  272.49],\n",
       "       [ 6717.88],\n",
       "       [ 8188.17],\n",
       "       [ 8065.1 ],\n",
       "       [  367.85],\n",
       "       [ 4240.53],\n",
       "       [  655.92],\n",
       "       [ 3899.07],\n",
       "       [ 1210.08],\n",
       "       [  624.7 ],\n",
       "       [ 7465.53],\n",
       "       [ 3933.57],\n",
       "       [ 6339.92],\n",
       "       [  455.01],\n",
       "       [ 3359.99],\n",
       "       [11091.99],\n",
       "       [ 1197.2 ],\n",
       "       [  635.17],\n",
       "       [ 7822.67],\n",
       "       [10297.86],\n",
       "       [ 7049.99],\n",
       "       [15199.99],\n",
       "       [11467.19],\n",
       "       [ 3391.48],\n",
       "       [ 1464.94],\n",
       "       [10007.42],\n",
       "       [  357.  ],\n",
       "       [ 5445.16],\n",
       "       [  581.98],\n",
       "       [13626.27],\n",
       "       [ 6340.  ],\n",
       "       [  307.05],\n",
       "       [ 4110.99],\n",
       "       [ 6344.3 ],\n",
       "       [ 6754.14],\n",
       "       [  416.67],\n",
       "       [  715.23],\n",
       "       [ 7037.48],\n",
       "       [ 7177.28],\n",
       "       [  451.28],\n",
       "       [ 8670.24],\n",
       "       [ 7140.34],\n",
       "       [ 3797.41],\n",
       "       [  789.39],\n",
       "       [ 3730.44],\n",
       "       [ 8592.01],\n",
       "       [ 9773.12],\n",
       "       [ 8902.53],\n",
       "       [ 1174.69],\n",
       "       [ 1270.  ],\n",
       "       [ 3529.66],\n",
       "       [ 3812.45],\n",
       "       [  640.  ],\n",
       "       [ 6091.87],\n",
       "       [ 6389.01],\n",
       "       [  665.86],\n",
       "       [ 3265.44],\n",
       "       [ 5321.31],\n",
       "       [  898.75],\n",
       "       [ 8009.88],\n",
       "       [ 6583.72],\n",
       "       [ 1183.72],\n",
       "       [  408.87],\n",
       "       [ 6580.76],\n",
       "       [ 6249.75],\n",
       "       [10888.01],\n",
       "       [12570.42],\n",
       "       [ 1041.03],\n",
       "       [ 7860.01],\n",
       "       [ 4371.25],\n",
       "       [ 7643.46],\n",
       "       [ 7521.01],\n",
       "       [  456.67],\n",
       "       [ 1020.23],\n",
       "       [ 9017.58],\n",
       "       [ 3901.59],\n",
       "       [  574.08],\n",
       "       [ 2264.29],\n",
       "       [ 5044.56],\n",
       "       [ 1294.91],\n",
       "       [ 6335.  ],\n",
       "       [  403.44],\n",
       "       [ 7387.88],\n",
       "       [  734.99],\n",
       "       [ 1084.22],\n",
       "       [ 1238.45],\n",
       "       [ 8192.44],\n",
       "       [ 1134.73],\n",
       "       [ 4318.3 ],\n",
       "       [ 5694.61],\n",
       "       [ 2383.82],\n",
       "       [  422.48],\n",
       "       [10162.8 ],\n",
       "       [ 2684.63],\n",
       "       [ 6501.5 ],\n",
       "       [ 9884.26],\n",
       "       [  318.66],\n",
       "       [ 5246.1 ],\n",
       "       [10175.8 ],\n",
       "       [  385.82],\n",
       "       [ 6345.53],\n",
       "       [ 8150.97],\n",
       "       [ 5974.97],\n",
       "       [ 1113.81],\n",
       "       [ 7151.49],\n",
       "       [  623.45],\n",
       "       [ 5437.68],\n",
       "       [ 9530.94],\n",
       "       [  878.02],\n",
       "       [10100.  ],\n",
       "       [ 8599.01],\n",
       "       [  289.38],\n",
       "       [ 7926.36],\n",
       "       [ 8198.47],\n",
       "       [  430.76],\n",
       "       [ 3662.89],\n",
       "       [ 9534.88],\n",
       "       [  461.8 ],\n",
       "       [  685.37],\n",
       "       [ 7677.17],\n",
       "       [ 8212.76],\n",
       "       [  656.06],\n",
       "       [ 3839.06],\n",
       "       [ 7501.64],\n",
       "       [ 3616.74],\n",
       "       [ 8920.  ],\n",
       "       [11206.22],\n",
       "       [  370.  ],\n",
       "       [  658.98],\n",
       "       [ 3641.4 ],\n",
       "       [  732.99],\n",
       "       [  721.48],\n",
       "       [  388.13],\n",
       "       [ 7340.21],\n",
       "       [ 7936.35],\n",
       "       [  443.41],\n",
       "       [ 1005.97],\n",
       "       [ 1255.71],\n",
       "       [ 5849.37],\n",
       "       [ 3990.  ],\n",
       "       [  700.01],\n",
       "       [  376.03],\n",
       "       [ 2416.12],\n",
       "       [  395.54],\n",
       "       [11535.56],\n",
       "       [  607.2 ],\n",
       "       [ 8721.54],\n",
       "       [ 1133.68],\n",
       "       [ 3421.45],\n",
       "       [  465.9 ],\n",
       "       [ 1070.6 ],\n",
       "       [  451.98],\n",
       "       [ 6545.49],\n",
       "       [  454.69],\n",
       "       [ 7165.9 ],\n",
       "       [  458.59],\n",
       "       [  374.  ],\n",
       "       [ 2703.44],\n",
       "       [ 2783.43],\n",
       "       [ 8002.98],\n",
       "       [  579.24],\n",
       "       [  789.31],\n",
       "       [ 3429.98],\n",
       "       [ 2645.1 ],\n",
       "       [  711.15],\n",
       "       [  713.6 ],\n",
       "       [13986.68],\n",
       "       [ 8192.21],\n",
       "       [ 3786.91],\n",
       "       [ 3866.99],\n",
       "       [  755.14],\n",
       "       [11374.76],\n",
       "       [  921.01],\n",
       "       [ 5296.26],\n",
       "       [ 6389.7 ],\n",
       "       [  376.  ],\n",
       "       [10132.44],\n",
       "       [ 9851.02],\n",
       "       [  417.01],\n",
       "       [ 1107.45],\n",
       "       [  609.98],\n",
       "       [ 6448.41],\n",
       "       [10584.13],\n",
       "       [ 6582.51],\n",
       "       [ 1194.5 ],\n",
       "       [  753.99],\n",
       "       [  419.99],\n",
       "       [ 8479.81],\n",
       "       [14488.61],\n",
       "       [10017.18],\n",
       "       [ 3687.  ],\n",
       "       [ 1055.  ],\n",
       "       [10910.18],\n",
       "       [  363.01],\n",
       "       [ 3692.35],\n",
       "       [ 9480.27],\n",
       "       [ 1182.64],\n",
       "       [ 7881.38],\n",
       "       [  918.42],\n",
       "       [ 7221.4 ],\n",
       "       [ 9331.03],\n",
       "       [ 9595.  ],\n",
       "       [ 2594.99],\n",
       "       [ 1089.99],\n",
       "       [ 7682.75],\n",
       "       [  427.99],\n",
       "       [  628.61],\n",
       "       [  454.27],\n",
       "       [ 6428.43],\n",
       "       [ 9691.37],\n",
       "       [  664.67],\n",
       "       [ 6692.  ],\n",
       "       [  428.24],\n",
       "       [  422.59],\n",
       "       [ 5266.34],\n",
       "       [  336.18],\n",
       "       [ 8809.33],\n",
       "       [ 5592.26],\n",
       "       [ 6135.8 ],\n",
       "       [  421.32],\n",
       "       [ 3588.61],\n",
       "       [ 8272.76],\n",
       "       [10239.97],\n",
       "       [ 3823.63],\n",
       "       [10625.2 ],\n",
       "       [ 8800.  ],\n",
       "       [ 8275.99],\n",
       "       [ 1694.64],\n",
       "       [ 3941.16],\n",
       "       [  661.99],\n",
       "       [11475.07],\n",
       "       [ 9488.28],\n",
       "       [ 7292.61],\n",
       "       [  604.9 ],\n",
       "       [ 9202.17],\n",
       "       [  422.16],\n",
       "       [ 3732.48],\n",
       "       [11400.01],\n",
       "       [  276.89],\n",
       "       [ 7241.66],\n",
       "       [ 3588.67],\n",
       "       [  440.75],\n",
       "       [  579.13],\n",
       "       [ 6378.01],\n",
       "       [  383.9 ],\n",
       "       [ 3979.35],\n",
       "       [ 8926.  ],\n",
       "       [ 6476.53],\n",
       "       [  826.21],\n",
       "       [  442.99],\n",
       "       [ 7801.  ],\n",
       "       [ 8073.9 ],\n",
       "       [ 9547.18],\n",
       "       [ 4102.48],\n",
       "       [ 5769.51],\n",
       "       [ 1059.75],\n",
       "       [ 6444.35],\n",
       "       [ 3917.49],\n",
       "       [13820.26],\n",
       "       [ 1250.  ],\n",
       "       [ 7400.18],\n",
       "       [  377.29],\n",
       "       [ 1247.66],\n",
       "       [ 4976.94],\n",
       "       [ 9211.7 ],\n",
       "       [  575.51],\n",
       "       [ 8553.5 ],\n",
       "       [ 7408.79],\n",
       "       [ 3842.  ],\n",
       "       [ 5329.97],\n",
       "       [ 4082.72],\n",
       "       [  476.99],\n",
       "       [ 7200.5 ],\n",
       "       [ 2459.56],\n",
       "       [  435.75],\n",
       "       [11027.77],\n",
       "       [ 3984.01],\n",
       "       [  826.69],\n",
       "       [  255.26],\n",
       "       [ 4284.45],\n",
       "       [  519.29],\n",
       "       [ 7528.05],\n",
       "       [ 6172.55],\n",
       "       [ 7262.52],\n",
       "       [ 6132.76],\n",
       "       [ 9941.7 ],\n",
       "       [ 8273.76],\n",
       "       [  410.99],\n",
       "       [ 3975.01],\n",
       "       [ 1054.72],\n",
       "       [ 1282.56],\n",
       "       [ 6700.88],\n",
       "       [  673.43],\n",
       "       [  362.03],\n",
       "       [  429.53],\n",
       "       [ 3993.87],\n",
       "       [ 4101.25],\n",
       "       [ 7075.1 ],\n",
       "       [ 6258.36],\n",
       "       [ 3916.48],\n",
       "       [11668.84],\n",
       "       [ 7334.8 ],\n",
       "       [ 3885.14],\n",
       "       [14100.01],\n",
       "       [  999.95],\n",
       "       [ 6395.25],\n",
       "       [ 3715.38],\n",
       "       [ 6491.5 ],\n",
       "       [  330.36],\n",
       "       [ 4327.63],\n",
       "       [11143.74],\n",
       "       [ 3820.26],\n",
       "       [  418.98],\n",
       "       [  663.95],\n",
       "       [ 3808.85],\n",
       "       [  435.  ],\n",
       "       [ 6498.88],\n",
       "       [  978.57],\n",
       "       [ 1965.01],\n",
       "       [  737.48],\n",
       "       [ 6299.  ],\n",
       "       [  748.13],\n",
       "       [ 6391.01],\n",
       "       [ 4300.  ],\n",
       "       [  617.37],\n",
       "       [ 7462.65],\n",
       "       [ 6012.58],\n",
       "       [  800.88],\n",
       "       [ 3567.12],\n",
       "       [ 2960.  ],\n",
       "       [ 7615.  ],\n",
       "       [ 7620.  ],\n",
       "       [ 6838.71],\n",
       "       [ 6600.  ],\n",
       "       [ 4141.59],\n",
       "       [ 6153.83],\n",
       "       [10161.62]])"
      ]
     },
     "execution_count": 19,
     "metadata": {},
     "output_type": "execute_result"
    }
   ],
   "source": [
    "xtest"
   ]
  },
  {
   "cell_type": "code",
   "execution_count": 20,
   "metadata": {},
   "outputs": [
    {
     "data": {
      "text/plain": [
       "array([3692.35, 6500.  , 8599.01, ...,  587.57, 5329.97, 7875.94])"
      ]
     },
     "execution_count": 20,
     "metadata": {},
     "output_type": "execute_result"
    }
   ],
   "source": [
    "ytrain"
   ]
  },
  {
   "cell_type": "code",
   "execution_count": 21,
   "metadata": {},
   "outputs": [
    {
     "data": {
      "text/plain": [
       "array([ 5606.38,  3195.43,  2101.33, 15418.95,  9202.17, 11467.19,\n",
       "        8065.1 ,  9816.97,   371.47, 15797.49,  5653.03,  6407.43,\n",
       "        3637.28,  8197.29,  6153.83,   713.6 ,  3820.26,  9219.51,\n",
       "        4371.25,  6580.76,  3789.99,  5849.37,  8197.  ,  6258.36,\n",
       "         448.  ,  4589.99,   584.44,  6759.51,  3826.96,   423.97,\n",
       "        1346.04,  1133.68,  7801.  ,  3415.99, 11240.19,   967.14,\n",
       "        1362.63,   449.9 ,  5266.34,  6711.16,  3395.49,  7691.26,\n",
       "        3667.82,  8265.81,  9158.02,  9497.68,   458.  ,  7794.46,\n",
       "        9773.12,  4327.63,   395.54,  6580.22,  8715.01,  7352.82,\n",
       "         380.07,  3917.49,   697.7 ,  9084.31,  2304.36,   789.39,\n",
       "       10183.63,  3845.73,  3588.67,   578.77,  7262.52,  9599.88,\n",
       "        2638.24,   923.87, 10132.44,  7329.11,  6380.  ,  7998.07,\n",
       "        6550.  ,  7286.93,  3421.45,  9017.58,   413.16, 10528.81,\n",
       "         753.99,  9649.99, 11166.92,   387.21,  8110.99,  3624.11,\n",
       "        6437.66,   672.74,  1054.72,  8553.5 ,  8073.9 ,   443.54,\n",
       "        9321.  ,  6406.91,  5036.86,  1045.01,  3850.46,  8900.45,\n",
       "        7221.4 ,  6202.49,  2758.5 ,  2656.3 ,  4001.3 ,  8024.35,\n",
       "         901.75,  4355.22,  6600.  ,   715.94,  3982.45,  9504.23,\n",
       "        1193.81, 11433.72,  6202.22,  2520.05,   663.09,  3933.57,\n",
       "        6413.23,  9105.  ,  8074.43,  2493.79,  8827.01, 11668.84,\n",
       "       10192.  ,  6243.21,   586.97,  1218.12,  6389.99,  8566.1 ,\n",
       "         736.45,  5765.32, 10850.  ,  2844.99,  3626.7 ,   685.37,\n",
       "        6395.85,  1003.97,  2501.02,  2706.14, 10175.8 ,  2213.01,\n",
       "        8240.82, 10820.81,  5984.03,   658.98,  7241.66,  4388.74,\n",
       "        3567.12,  6388.98,   418.77,  9851.02,  7393.19,   413.99,\n",
       "        6593.48,  8110.  , 10007.42,  2549.89, 11100.  ,   790.2 ,\n",
       "       12744.98,  6740.96,  1347.19,  7155.  ,  6135.8 ,   373.2 ,\n",
       "        6332.46, 10408.14,   422.59,  5445.16,  8227.28,   422.16,\n",
       "         594.69,  9595.  ,  9280.04,   923.02,  4095.01,  6251.56,\n",
       "       12675.68,  8166.86,  7484.84,   451.75,   656.06,  5174.18,\n",
       "        1151.39,  1059.75,   398.27,  5420.45, 10271.26,   573.36,\n",
       "        1781.71,  2703.44, 11206.22, 11035.  ,  1055.  ,   454.69,\n",
       "        4751.08,   461.36,  9393.29,   912.99,  9597.25,  2412.34,\n",
       "        7776.54,   572.38,  2497.6 ,   573.7 ,  3662.89,   575.97,\n",
       "        7315.25,   419.45,   443.01,  6585.11,  6340.  , 10314.68,\n",
       "         774.14,  1250.  ,  7881.38,  4182.9 ,  1012.65,  1034.33,\n",
       "        6794.31,  6425.09,  5069.48,  8659.18,   606.98,  8212.76,\n",
       "        1602.17,  9599.07,  3469.06,   406.18,  7758.35,  9200.  ,\n",
       "         680.96,  2305.05,   813.02,  3562.29,  7250.14,  6181.54,\n",
       "        2690.  ,  1182.64,   661.55,  9665.85,  6895.99,  7333.2 ,\n",
       "        5149.86,  1895.55,  9530.94,   414.68,  5319.55,  7462.65,\n",
       "        2594.99, 10151.83,  1580.99,  6191.02,  8431.9 ,  7610.  ,\n",
       "        4204.51,  2329.4 ,  8060.01,   658.24,   921.01,   600.17,\n",
       "        3570.25,  6091.87,   640.  ,  4101.25,   418.39,   663.84,\n",
       "       11841.61,   422.21,  9705.1 , 11114.  ,  6581.37,   570.02,\n",
       "        7879.92,  8700.66,  7300.7 ,  5044.68,  7193.42,  7725.05,\n",
       "        8716.76,  4049.98,  8516.2 ,   639.58,  8162.95,  7500.  ,\n",
       "        6378.4 ,   989.99,  9903.34,   674.99,  7682.81,  6297.7 ,\n",
       "         378.33,  6775.21,  5044.56,   532.66,   606.38, 10317.97,\n",
       "         468.44,  4136.54,  7032.06,  4240.53,  1084.22,   572.98,\n",
       "       10360.29,  7985.77,  9167.01,  9304.19, 11381.51,  2230.77,\n",
       "        6433.42,  9331.03,  6830.68,  2749.99,  7881.02,   410.79,\n",
       "        2871.27, 11776.4 ,  6109.19,   702.  ,  8395.71,  6263.67,\n",
       "        8989.89, 11857.08, 11475.07,   607.67,  6205.18,  3620.96,\n",
       "         423.23,  6770.  ,  3899.07,  1247.83,   387.8 ,  8779.62,\n",
       "         611.89,  5343.07,  6573.94, 10367.23,  7682.75,  9295.77,\n",
       "       10483.37,   648.78, 11885.94,  2197.33,  2783.43,  6428.43,\n",
       "         617.99,   411.18,   663.95,  9827.29,  3862.12,  3436.54,\n",
       "        4223.69, 15148.92,  8198.82,  6404.8 , 15199.99,  7418.53,\n",
       "        1223.76,  3412.1 , 13986.68,  3771.43,   376.03, 14980.01,\n",
       "        8150.97,  7791.42,   407.59,   730.48,  5041.  ,   424.53,\n",
       "        3626.76,  1184.5 ,  4340.88,  1228.9 ,  6391.01,  1182.03,\n",
       "        3558.19, 13301.77,   878.02,  7284.57, 11130.34,  1041.75,\n",
       "        8750.01,  3903.4 ,  8525.13,  9581.96,  6700.88,  3604.57,\n",
       "        3851.15,  3687.  ,  7709.99])"
      ]
     },
     "execution_count": 21,
     "metadata": {},
     "output_type": "execute_result"
    }
   ],
   "source": [
    "ytest"
   ]
  },
  {
   "cell_type": "code",
   "execution_count": 22,
   "metadata": {},
   "outputs": [],
   "source": [
    "#importing Linear Regression\n",
    "from sklearn.linear_model import LinearRegression"
   ]
  },
  {
   "cell_type": "code",
   "execution_count": 23,
   "metadata": {},
   "outputs": [],
   "source": [
    "model = LinearRegression()"
   ]
  },
  {
   "cell_type": "code",
   "execution_count": 24,
   "metadata": {},
   "outputs": [
    {
     "data": {
      "text/plain": [
       "LinearRegression()"
      ]
     },
     "execution_count": 24,
     "metadata": {},
     "output_type": "execute_result"
    }
   ],
   "source": [
    "# Training the model\n",
    "model.fit(xtrain,ytrain)"
   ]
  },
  {
   "cell_type": "code",
   "execution_count": 25,
   "metadata": {},
   "outputs": [],
   "source": [
    "#To predict The fututre values based on the last 100 days of the existing values\n",
    "# xfuture is actually existing values\n",
    "xfuture = price['Close'].tail(100)"
   ]
  },
  {
   "cell_type": "code",
   "execution_count": 26,
   "metadata": {},
   "outputs": [],
   "source": [
    "xfuture = xfuture.to_frame()"
   ]
  },
  {
   "cell_type": "code",
   "execution_count": 27,
   "metadata": {},
   "outputs": [
    {
     "data": {
      "text/html": [
       "<div>\n",
       "<style scoped>\n",
       "    .dataframe tbody tr th:only-of-type {\n",
       "        vertical-align: middle;\n",
       "    }\n",
       "\n",
       "    .dataframe tbody tr th {\n",
       "        vertical-align: top;\n",
       "    }\n",
       "\n",
       "    .dataframe thead th {\n",
       "        text-align: right;\n",
       "    }\n",
       "</style>\n",
       "<table border=\"1\" class=\"dataframe\">\n",
       "  <thead>\n",
       "    <tr style=\"text-align: right;\">\n",
       "      <th></th>\n",
       "      <th>Close</th>\n",
       "    </tr>\n",
       "  </thead>\n",
       "  <tbody>\n",
       "    <tr>\n",
       "      <th>1547</th>\n",
       "      <td>6944.90</td>\n",
       "    </tr>\n",
       "    <tr>\n",
       "      <th>1548</th>\n",
       "      <td>7333.00</td>\n",
       "    </tr>\n",
       "    <tr>\n",
       "      <th>1549</th>\n",
       "      <td>7352.82</td>\n",
       "    </tr>\n",
       "    <tr>\n",
       "      <th>1550</th>\n",
       "      <td>7351.77</td>\n",
       "    </tr>\n",
       "    <tr>\n",
       "      <th>1551</th>\n",
       "      <td>7762.72</td>\n",
       "    </tr>\n",
       "    <tr>\n",
       "      <th>...</th>\n",
       "      <td>...</td>\n",
       "    </tr>\n",
       "    <tr>\n",
       "      <th>1642</th>\n",
       "      <td>7336.96</td>\n",
       "    </tr>\n",
       "    <tr>\n",
       "      <th>1643</th>\n",
       "      <td>7201.81</td>\n",
       "    </tr>\n",
       "    <tr>\n",
       "      <th>1644</th>\n",
       "      <td>7369.60</td>\n",
       "    </tr>\n",
       "    <tr>\n",
       "      <th>1645</th>\n",
       "      <td>7315.25</td>\n",
       "    </tr>\n",
       "    <tr>\n",
       "      <th>1646</th>\n",
       "      <td>7315.25</td>\n",
       "    </tr>\n",
       "  </tbody>\n",
       "</table>\n",
       "<p>100 rows × 1 columns</p>\n",
       "</div>"
      ],
      "text/plain": [
       "        Close\n",
       "1547  6944.90\n",
       "1548  7333.00\n",
       "1549  7352.82\n",
       "1550  7351.77\n",
       "1551  7762.72\n",
       "...       ...\n",
       "1642  7336.96\n",
       "1643  7201.81\n",
       "1644  7369.60\n",
       "1645  7315.25\n",
       "1646  7315.25\n",
       "\n",
       "[100 rows x 1 columns]"
      ]
     },
     "execution_count": 27,
     "metadata": {},
     "output_type": "execute_result"
    }
   ],
   "source": [
    "xfuture"
   ]
  },
  {
   "cell_type": "code",
   "execution_count": 28,
   "metadata": {},
   "outputs": [
    {
     "name": "stdout",
     "output_type": "stream",
     "text": [
      "[[ 6944.9 ]\n",
      " [ 7333.  ]\n",
      " [ 7352.82]\n",
      " [ 7351.77]\n",
      " [ 7762.72]\n",
      " [ 8158.5 ]\n",
      " [ 8042.02]\n",
      " [ 7820.01]\n",
      " [ 8190.89]\n",
      " [ 8023.48]\n",
      " [ 8173.14]\n",
      " [ 8110.  ]\n",
      " [ 8827.01]\n",
      " [ 8813.5 ]\n",
      " [ 8715.01]\n",
      " [ 8900.45]\n",
      " [ 8907.78]\n",
      " [ 8700.66]\n",
      " [ 8627.64]\n",
      " [ 8716.76]\n",
      " [ 8664.08]\n",
      " [ 8391.37]\n",
      " [ 8425.18]\n",
      " [ 8330.01]\n",
      " [ 8583.74]\n",
      " [ 8901.8 ]\n",
      " [ 9399.  ]\n",
      " [ 9280.04]\n",
      " [ 9497.68]\n",
      " [ 9330.55]\n",
      " [ 9380.6 ]\n",
      " [ 9321.  ]\n",
      " [ 9278.51]\n",
      " [ 9167.01]\n",
      " [ 9615.04]\n",
      " [ 9761.36]\n",
      " [ 9816.97]\n",
      " [ 9912.53]\n",
      " [10168.41]\n",
      " [ 9860.08]\n",
      " [10269.46]\n",
      " [10352.74]\n",
      " [10245.39]\n",
      " [10372.74]\n",
      " [ 9903.34]\n",
      " [ 9933.8 ]\n",
      " [ 9705.1 ]\n",
      " [10187.97]\n",
      " [ 9597.25]\n",
      " [ 9610.11]\n",
      " [ 9703.44]\n",
      " [ 9675.67]\n",
      " [ 9977.24]\n",
      " [ 9665.85]\n",
      " [ 9311.4 ]\n",
      " [ 8780.08]\n",
      " [ 8809.86]\n",
      " [ 8704.88]\n",
      " [ 8525.13]\n",
      " [ 8528.4 ]\n",
      " [ 8912.92]\n",
      " [ 8751.88]\n",
      " [ 8757.05]\n",
      " [ 9067.35]\n",
      " [ 9158.02]\n",
      " [ 8902.65]\n",
      " [ 8038.84]\n",
      " [ 7932.95]\n",
      " [ 7881.02]\n",
      " [ 7935.49]\n",
      " [ 4830.45]\n",
      " [ 5653.03]\n",
      " [ 5169.05]\n",
      " [ 5343.45]\n",
      " [ 5035.56]\n",
      " [ 5343.07]\n",
      " [ 5420.45]\n",
      " [ 6191.02]\n",
      " [ 6205.18]\n",
      " [ 6208.45]\n",
      " [ 5839.44]\n",
      " [ 6500.  ]\n",
      " [ 6775.57]\n",
      " [ 6694.73]\n",
      " [ 6728.44]\n",
      " [ 6378.4 ]\n",
      " [ 6258.01]\n",
      " [ 5882.7 ]\n",
      " [ 6406.91]\n",
      " [ 6428.54]\n",
      " [ 6666.16]\n",
      " [ 6801.  ]\n",
      " [ 6740.88]\n",
      " [ 6870.2 ]\n",
      " [ 6775.21]\n",
      " [ 7336.96]\n",
      " [ 7201.81]\n",
      " [ 7369.6 ]\n",
      " [ 7315.25]\n",
      " [ 7315.25]]\n"
     ]
    }
   ],
   "source": [
    "xfuture = np.array(xfuture)\n",
    "print(xfuture)"
   ]
  },
  {
   "cell_type": "code",
   "execution_count": 29,
   "metadata": {},
   "outputs": [
    {
     "data": {
      "text/plain": [
       "array([6641.50791001, 6897.08155196, 6910.13352203, 6909.44207054,\n",
       "       7180.063014  , 7440.69412973, 7363.98911088, 7217.78992446,\n",
       "       7462.02376194, 7351.78005311, 7450.3349391 , 7408.75565605,\n",
       "       7880.92483156, 7872.02815569, 7807.17000574, 7929.28692448,\n",
       "       7934.11391442, 7797.72016869, 7749.63465636, 7808.3224249 ,\n",
       "       7773.63131575, 7594.04490015, 7616.30963819, 7553.63779201,\n",
       "       7720.72539874, 7930.17593354, 8257.59467814, 8179.25651672,\n",
       "       8322.57794789, 8212.51862612, 8245.4778139 , 8206.22971016,\n",
       "       8178.24897312, 8104.82340992, 8399.86246894, 8496.21788066,\n",
       "       8532.83846873, 8595.76713975, 8764.27057573, 8561.22749141,\n",
       "       8830.81455027, 8885.65653146, 8814.96384797, 8898.82703607,\n",
       "       8589.71529288, 8609.7739714 , 8459.16925119, 8777.15132924,\n",
       "       8388.14730509, 8396.61593955, 8458.07609931, 8439.78885366,\n",
       "       8638.38030742, 8433.3221359 , 8199.90786795, 7850.02024249,\n",
       "       7869.63112385, 7800.49914516, 7682.12923498, 7684.28261248,\n",
       "       7937.49873411, 7831.44983099, 7834.85440643, 8039.19478545,\n",
       "       8098.9032681 , 7930.73567999, 7361.89500065, 7292.16376399,\n",
       "       7257.96654877, 7293.83641808, 5249.08923641, 5790.7789205 ,\n",
       "       5472.06587945, 5586.91267965, 5384.15934644, 5586.66244006,\n",
       "       5637.6191224 , 6145.05890925, 6154.38362652, 6156.53700402,\n",
       "       5913.53460872, 6348.53003497, 6529.99983273, 6476.7646531 ,\n",
       "       6498.96353862, 6268.45336694, 6189.17351444, 5942.02241019,\n",
       "       6287.22792126, 6301.471822  , 6457.95058726, 6546.74612934,\n",
       "       6507.15559249, 6592.31607529, 6529.76276365, 6899.68931187,\n",
       "       6810.68962697, 6921.1835754 , 6885.39272912, 6885.39272912])"
      ]
     },
     "execution_count": 29,
     "metadata": {},
     "output_type": "execute_result"
    }
   ],
   "source": [
    "model.predict(xfuture)"
   ]
  },
  {
   "cell_type": "code",
   "execution_count": 30,
   "metadata": {},
   "outputs": [
    {
     "data": {
      "text/plain": [
       "1547   NaN\n",
       "1548   NaN\n",
       "1549   NaN\n",
       "1550   NaN\n",
       "1551   NaN\n",
       "        ..\n",
       "1642   NaN\n",
       "1643   NaN\n",
       "1644   NaN\n",
       "1645   NaN\n",
       "1646   NaN\n",
       "Name: Predictions, Length: 100, dtype: float64"
      ]
     },
     "execution_count": 30,
     "metadata": {},
     "output_type": "execute_result"
    }
   ],
   "source": [
    "price['Predictions'].tail(100)"
   ]
  },
  {
   "cell_type": "code",
   "execution_count": 31,
   "metadata": {},
   "outputs": [],
   "source": [
    "#visualizing the data"
   ]
  },
  {
   "cell_type": "code",
   "execution_count": 32,
   "metadata": {},
   "outputs": [
    {
     "data": {
      "text/plain": [
       "array([6641.50791001, 6897.08155196, 6910.13352203, 6909.44207054,\n",
       "       7180.063014  , 7440.69412973, 7363.98911088, 7217.78992446,\n",
       "       7462.02376194, 7351.78005311, 7450.3349391 , 7408.75565605,\n",
       "       7880.92483156, 7872.02815569, 7807.17000574, 7929.28692448,\n",
       "       7934.11391442, 7797.72016869, 7749.63465636, 7808.3224249 ,\n",
       "       7773.63131575, 7594.04490015, 7616.30963819, 7553.63779201,\n",
       "       7720.72539874, 7930.17593354, 8257.59467814, 8179.25651672,\n",
       "       8322.57794789, 8212.51862612, 8245.4778139 , 8206.22971016,\n",
       "       8178.24897312, 8104.82340992, 8399.86246894, 8496.21788066,\n",
       "       8532.83846873, 8595.76713975, 8764.27057573, 8561.22749141,\n",
       "       8830.81455027, 8885.65653146, 8814.96384797, 8898.82703607,\n",
       "       8589.71529288, 8609.7739714 , 8459.16925119, 8777.15132924,\n",
       "       8388.14730509, 8396.61593955, 8458.07609931, 8439.78885366,\n",
       "       8638.38030742, 8433.3221359 , 8199.90786795, 7850.02024249,\n",
       "       7869.63112385, 7800.49914516, 7682.12923498, 7684.28261248,\n",
       "       7937.49873411, 7831.44983099, 7834.85440643, 8039.19478545,\n",
       "       8098.9032681 , 7930.73567999, 7361.89500065, 7292.16376399,\n",
       "       7257.96654877, 7293.83641808, 5249.08923641, 5790.7789205 ,\n",
       "       5472.06587945, 5586.91267965, 5384.15934644, 5586.66244006,\n",
       "       5637.6191224 , 6145.05890925, 6154.38362652, 6156.53700402,\n",
       "       5913.53460872, 6348.53003497, 6529.99983273, 6476.7646531 ,\n",
       "       6498.96353862, 6268.45336694, 6189.17351444, 5942.02241019,\n",
       "       6287.22792126, 6301.471822  , 6457.95058726, 6546.74612934,\n",
       "       6507.15559249, 6592.31607529, 6529.76276365, 6899.68931187,\n",
       "       6810.68962697, 6921.1835754 , 6885.39272912, 6885.39272912])"
      ]
     },
     "execution_count": 32,
     "metadata": {},
     "output_type": "execute_result"
    }
   ],
   "source": [
    "predicted_value = model.predict(xfuture)\n",
    "predicted_value"
   ]
  },
  {
   "cell_type": "code",
   "execution_count": 33,
   "metadata": {},
   "outputs": [],
   "source": [
    "close = np.array(data['Close'])"
   ]
  },
  {
   "cell_type": "code",
   "execution_count": 34,
   "metadata": {},
   "outputs": [],
   "source": [
    "predicted = np.append(close,predicted_value)"
   ]
  },
  {
   "cell_type": "code",
   "execution_count": 35,
   "metadata": {},
   "outputs": [
    {
     "data": {
      "text/plain": [
       "[<matplotlib.lines.Line2D at 0x2311ffc74c0>]"
      ]
     },
     "execution_count": 35,
     "metadata": {},
     "output_type": "execute_result"
    },
    {
     "data": {
      "image/png": "[encoded data removed]",
      "text/plain": [
       "<Figure size 432x288 with 1 Axes>"
      ]
     },
     "metadata": {
      "needs_background": "light"
     },
     "output_type": "display_data"
    }
   ],
   "source": [
    "plt.plot(predicted ,color = 'green')\n",
    "plt.plot(close , color = 'red')"
   ]
  },
  {
   "cell_type": "code",
   "execution_count": 36,
   "metadata": {},
   "outputs": [
    {
     "data": {
      "text/plain": [
       "[<matplotlib.lines.Line2D at 0x23120028a00>]"
      ]
     },
     "execution_count": 36,
     "metadata": {},
     "output_type": "execute_result"
    },
    {
     "data": {
      "image/png": "[encoded data removed]",
      "text/plain": [
       "<Figure size 432x288 with 1 Axes>"
      ]
     },
     "metadata": {
      "needs_background": "light"
     },
     "output_type": "display_data"
    }
   ],
   "source": [
    "plt.plot(data['Close'])"
   ]
  },
  {
   "cell_type": "code",
   "execution_count": null,
   "metadata": {},
   "outputs": [],
   "source": []
  }
 ],
 "metadata": {
  "kernelspec": {
   "display_name": "Python 3",
   "language": "python",
   "name": "python3"
  },
  "language_info": {
   "codemirror_mode": {
    "name": "ipython",
    "version": 3
   },
   "file_extension": ".py",
   "mimetype": "text/x-python",
   "name": "python",
   "nbconvert_exporter": "python",
   "pygments_lexer": "ipython3",
   "version": "3.8.3"
  }
 },
 "nbformat": 4,
 "nbformat_minor": 4
}
